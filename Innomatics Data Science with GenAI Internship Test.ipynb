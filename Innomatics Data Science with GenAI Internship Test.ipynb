{
 "cells": [
  {
   "cell_type": "markdown",
   "id": "5af97398",
   "metadata": {},
   "source": [
    "## Innomatics Data Science with GenAI Internship Test"
   ]
  },
  {
   "cell_type": "code",
   "execution_count": 1,
   "id": "c6bf0e0a",
   "metadata": {},
   "outputs": [
    {
     "name": "stdout",
     "output_type": "stream",
     "text": [
      "<class 'pandas.core.frame.DataFrame'>\n",
      "RangeIndex: 28888 entries, 0 to 28887\n",
      "Data columns (total 2 columns):\n",
      " #   Column       Non-Null Count  Dtype \n",
      "---  ------       --------------  ----- \n",
      " 0   property_id  28888 non-null  object\n",
      " 1   photo_urls   17866 non-null  object\n",
      "dtypes: object(2)\n",
      "memory usage: 451.5+ KB\n",
      "<class 'pandas.core.frame.DataFrame'>\n",
      "RangeIndex: 170611 entries, 0 to 170610\n",
      "Data columns (total 2 columns):\n",
      " #   Column        Non-Null Count   Dtype \n",
      "---  ------        --------------   ----- \n",
      " 0   property_id   170611 non-null  object\n",
      " 1   request_date  170611 non-null  object\n",
      "dtypes: object(2)\n",
      "memory usage: 2.6+ MB\n"
     ]
    },
    {
     "data": {
      "text/plain": [
       "(                        property_id  \\\n",
       " 0  ff808081469fd6e20146a5af948000ea   \n",
       " 1  ff8080814702d3d10147068359d200cd   \n",
       " 2  ff808081470c645401470fb03f5800a6   \n",
       " 3  ff808081470c6454014715eaa5960281   \n",
       " 4  ff808081474aa867014771a0298f0aa6   \n",
       " \n",
       "                                           photo_urls  \n",
       " 0  [{\\title\\\":\\\"Balcony\\\",\\\"name\\\":\\\"IMG_20131006...  \n",
       " 1                                                NaN  \n",
       " 2  [{\\title\\\":\\\"Bedroom\\\",\\\"name\\\":\\\"ff808081470c...  \n",
       " 3  [{\\title\\\":\\\"Bedroom\\\",\\\"name\\\":\\\"Screenshot_7...  \n",
       " 4  [{\\title\\\":\\\"Other\\\",\\\"name\\\":\\\"ff808081474aa8...  ,\n",
       "                         property_id         request_date\n",
       " 0  ff808081469fd6e20146a5af948000ea  2017-03-10 17:42:34\n",
       " 1  ff808081469fd6e20146a5af948000ea  2017-03-09 15:51:17\n",
       " 2  ff808081469fd6e20146a5af948000ea  2017-03-10 17:30:22\n",
       " 3  ff808081469fd6e20146a5af948000ea  2017-03-11 17:48:46\n",
       " 4  ff8080814702d3d10147068359d200cd  2017-03-30 19:59:15,\n",
       " None,\n",
       " None)"
      ]
     },
     "execution_count": 1,
     "metadata": {},
     "output_type": "execute_result"
    }
   ],
   "source": [
    "import pandas as pd\n",
    "\n",
    "# Load the uploaded files\n",
    "photos_data_path = 'property_photos.tsv'\n",
    "interactions_data_path = 'property_interactions.csv'\n",
    "\n",
    "# Reading the files into DataFrames\n",
    "photos_data = pd.read_csv(photos_data_path, sep='\\t')  # Assuming it's a TSV file\n",
    "interactions_data = pd.read_csv(interactions_data_path)\n",
    "\n",
    "# Displaying the first few rows of each dataset to understand their structure\n",
    "photos_data_head = photos_data.head()\n",
    "interactions_data_head = interactions_data.head()\n",
    "\n",
    "photos_data_info = photos_data.info()\n",
    "interactions_data_info = interactions_data.info()\n",
    "\n",
    "photos_data_head, interactions_data_head, photos_data_info, interactions_data_info"
   ]
  },
  {
   "cell_type": "code",
   "execution_count": 2,
   "id": "4e7b2796",
   "metadata": {},
   "outputs": [
    {
     "name": "stdout",
     "output_type": "stream",
     "text": [
      "<class 'pandas.core.frame.DataFrame'>\n",
      "RangeIndex: 28888 entries, 0 to 28887\n",
      "Data columns (total 3 columns):\n",
      " #   Column              Non-Null Count  Dtype  \n",
      "---  ------              --------------  -----  \n",
      " 0   property_id         28888 non-null  object \n",
      " 1   photo_count         28888 non-null  int64  \n",
      " 2   total_interactions  22779 non-null  float64\n",
      "dtypes: float64(1), int64(1), object(1)\n",
      "memory usage: 677.2+ KB\n"
     ]
    },
    {
     "data": {
      "text/plain": [
       "(None,\n",
       "                         property_id  photo_count  total_interactions\n",
       " 0  ff808081469fd6e20146a5af948000ea            0                 4.0\n",
       " 1  ff8080814702d3d10147068359d200cd            0                12.0\n",
       " 2  ff808081470c645401470fb03f5800a6            0                27.0\n",
       " 3  ff808081470c6454014715eaa5960281            0                13.0\n",
       " 4  ff808081474aa867014771a0298f0aa6            0                68.0)"
      ]
     },
     "execution_count": 2,
     "metadata": {},
     "output_type": "execute_result"
    }
   ],
   "source": [
    "import ast\n",
    "\n",
    "# Cleaning and extracting photo counts from the photo_urls column\n",
    "def extract_photo_count(photo_urls):\n",
    "    if pd.isna(photo_urls):  # Handle missing values\n",
    "        return 0\n",
    "    try:\n",
    "        photos = ast.literal_eval(photo_urls)\n",
    "        return len(photos)\n",
    "    except (ValueError, SyntaxError):  # Handle malformed data\n",
    "        return 0\n",
    "\n",
    "photos_data['photo_count'] = photos_data['photo_urls'].apply(extract_photo_count)\n",
    "\n",
    "# Aggregating total interactions for each property\n",
    "interactions_data['request_date'] = pd.to_datetime(interactions_data['request_date'])\n",
    "total_interactions = interactions_data.groupby('property_id').size().reset_index(name='total_interactions')\n",
    "\n",
    "# Merging photo data with interactions data\n",
    "merged_data = photos_data[['property_id', 'photo_count']].merge(\n",
    "    total_interactions, on='property_id', how='outer'\n",
    ")\n",
    "\n",
    "# Checking the result of the merging process\n",
    "merged_data_info = merged_data.info()\n",
    "merged_data_head = merged_data.head()\n",
    "\n",
    "merged_data_info, merged_data_head"
   ]
  },
  {
   "cell_type": "code",
   "execution_count": 3,
   "id": "dbe9421a",
   "metadata": {},
   "outputs": [
    {
     "name": "stderr",
     "output_type": "stream",
     "text": [
      "C:\\Users\\prasad jadhav\\AppData\\Local\\Temp\\ipykernel_1988\\3767893106.py:2: FutureWarning: A value is trying to be set on a copy of a DataFrame or Series through chained assignment using an inplace method.\n",
      "The behavior will change in pandas 3.0. This inplace method will never work because the intermediate object on which we are setting values always behaves as a copy.\n",
      "\n",
      "For example, when doing 'df[col].method(value, inplace=True)', try using 'df.method({col: value}, inplace=True)' or df[col] = df[col].method(value) instead, to perform the operation inplace on the original object.\n",
      "\n",
      "\n",
      "  merged_data['total_interactions'].fillna(0, inplace=True)\n"
     ]
    },
    {
     "data": {
      "text/plain": [
       "(0.0, 1)"
      ]
     },
     "execution_count": 3,
     "metadata": {},
     "output_type": "execute_result"
    }
   ],
   "source": [
    "# Filling missing values in total_interactions with 0 for analysis\n",
    "merged_data['total_interactions'].fillna(0, inplace=True)\n",
    "\n",
    "# Calculate summary statistics needed for the questions\n",
    "hsr_properties_count = merged_data[merged_data['property_id'].str.contains('HSR', na=False)].shape[0]\n",
    "total_properties = merged_data.shape[0]\n",
    "hsr_percentage = round((hsr_properties_count / total_properties) * 100, 2)\n",
    "\n",
    "# Count unique locations from property_ids (assuming the location is encoded in property_id)\n",
    "unique_locations_count = merged_data['property_id'].str.extract(r'(\\D+)').nunique()[0]\n",
    "\n",
    "# Summarize results for next tasks\n",
    "hsr_percentage, unique_locations_count"
   ]
  },
  {
   "cell_type": "code",
   "execution_count": 4,
   "id": "4e8b290b",
   "metadata": {},
   "outputs": [
    {
     "data": {
      "text/plain": [
       "0    ff808081469fd6e20146a5af948000ea\n",
       "1    ff8080814702d3d10147068359d200cd\n",
       "2    ff808081470c645401470fb03f5800a6\n",
       "3    ff808081470c6454014715eaa5960281\n",
       "4    ff808081474aa867014771a0298f0aa6\n",
       "5    ff8080814780f30801478d14132f03f4\n",
       "6    ff8080814780f308014797c79000082e\n",
       "7    ff80808147a95f0a0147ab0d88fa0080\n",
       "8    ff80808147ac6af10147afc279480099\n",
       "9    ff80808147cbdc2a0147cf8577880153\n",
       "Name: property_id, dtype: object"
      ]
     },
     "execution_count": 4,
     "metadata": {},
     "output_type": "execute_result"
    }
   ],
   "source": [
    "# Revisiting the data: Checking property_id patterns for extracting location information\n",
    "property_id_sample = merged_data['property_id'].dropna().head(10)\n",
    "\n",
    "# Display sample property IDs for further analysis\n",
    "property_id_sample"
   ]
  },
  {
   "cell_type": "markdown",
   "id": "23936f85",
   "metadata": {},
   "source": [
    "### Insights from the uploaded datasets:\n",
    "\n",
    "#### Property Photos Data:\n",
    "- #### Columns:\n",
    "- property_id: Unique identifier for each property.\n",
    "- photo_urls: JSON-like strings containing photo details for each property.\n",
    "- #### Shape: 28,888 rows and 2 columns.\n",
    "\n",
    "- #### Non-Null Count:\n",
    "- property_id: Fully populated.\n",
    "- photo_urls: Contains missing values (17,866 non-null entries).\n",
    "- Property Interactions Data:\n",
    "\n",
    "- #### Columns:\n",
    "- property_id: Unique identifier for each property.\n",
    "- request_date: Timestamp of user interaction.\n",
    "- #### Shape: 170,611 rows and 2 columns.\n",
    "- #### Non-Null Count: Both columns are fully populated."
   ]
  },
  {
   "cell_type": "markdown",
   "id": "d05e8783",
   "metadata": {},
   "source": [
    "#### Data Processing Updates:\n",
    "- #### 1. Photo Count Extraction:\n",
    "\n",
    "- Extracted the number of photos for each property from the photo_urls column.\n",
    "- Handled missing and malformed data, setting the count to 0 where necessary.\n",
    "\n",
    "- #### 2. Total Interactions Calculation:\n",
    "\n",
    "- Aggregated interaction counts for each property based on the request_date column.\n",
    "\n",
    "- #### 3. Merged Data:\n",
    "\n",
    "- Combined the cleaned photo_count data with the total_interactions data.\n",
    "- Resulting DataFrame has:\n",
    "- #### 28,888 rows.\n",
    "\n",
    "- **3 columns**: property_id, photo_count, and total_interactions.\n",
    "- Some missing values in the total_interactions column where properties lacked interaction data."
   ]
  },
  {
   "cell_type": "markdown",
   "id": "c879c87d",
   "metadata": {},
   "source": [
    "#### Analysis Results:\n",
    "\n",
    "- 1. Percentage of Properties in HSR Layout: It seems that no properties in the dataset have identifiers explicitly matching \"HSR\" in their property_id. This could be due to inconsistencies in the dataset or a mismatch in assumptions about the data format.\n",
    "\n",
    "- 2. Number of Unique Locations: Based on property_id, there appears to be only one unique location. This suggests that location information may not be encoded directly in the property_id column as expected."
   ]
  },
  {
   "cell_type": "markdown",
   "id": "a88861b7",
   "metadata": {},
   "source": [
    "***Thank You!***"
   ]
  }
 ],
 "metadata": {
  "kernelspec": {
   "display_name": "Python 3 (ipykernel)",
   "language": "python",
   "name": "python3"
  },
  "language_info": {
   "codemirror_mode": {
    "name": "ipython",
    "version": 3
   },
   "file_extension": ".py",
   "mimetype": "text/x-python",
   "name": "python",
   "nbconvert_exporter": "python",
   "pygments_lexer": "ipython3",
   "version": "3.10.5"
  }
 },
 "nbformat": 4,
 "nbformat_minor": 5
}
